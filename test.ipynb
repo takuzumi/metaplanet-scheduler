{
  "nbformat": 4,
  "nbformat_minor": 0,
  "metadata": {
    "colab": {
      "provenance": [],
      "authorship_tag": "ABX9TyM4iITJcz3/rikIIzInITXW",
      "include_colab_link": true
    },
    "kernelspec": {
      "name": "python3",
      "display_name": "Python 3"
    },
    "language_info": {
      "name": "python"
    }
  },
  "cells": [
    {
      "cell_type": "markdown",
      "metadata": {
        "id": "view-in-github",
        "colab_type": "text"
      },
      "source": [
        "<a href=\"https://colab.research.google.com/github/takuzumi/metaplanet-scheduler/blob/test/test.ipynb\" target=\"_parent\"><img src=\"https://colab.research.google.com/assets/colab-badge.svg\" alt=\"Open In Colab\"/></a>"
      ]
    },
    {
      "cell_type": "code",
      "execution_count": null,
      "metadata": {
        "id": "SOp2rlu65fFK"
      },
      "outputs": [],
      "source": [
        "# --- 必要ライブラリ ---\n",
        "!pip install gspread oauth2client selenium --quiet\n",
        "import time\n",
        "import gspread\n",
        "from oauth2client.service_account import ServiceAccountCredentials\n",
        "from selenium import webdriver\n",
        "from selenium.webdriver.chrome.options import Options\n",
        "\n",
        "# --- Google認証（サービスアカウントを使う場合） ---\n",
        "scope = [\"https://spreadsheets.google.com/feeds\", \"https://www.googleapis.com/auth/drive\"]\n",
        "creds = ServiceAccountCredentials.from_json_keyfile_name('your-service-account.json', scope)\n",
        "client = gspread.authorize(creds)\n",
        "\n",
        "# --- スプレッドシート読み込み ---\n",
        "spreadsheet = client.open(\"テスト\")\n",
        "sheet = spreadsheet.worksheet(\"シート1\")\n",
        "\n",
        "# --- Webデータ取得（例としてhttps://example.comの値を取得） ---\n",
        "options = Options()\n",
        "options.add_argument('--headless')\n",
        "driver = webdriver.Chrome(options=options)\n",
        "driver.get(\"https://example.com\")\n",
        "\n",
        "# 任意のセレクタに合わせて変更\n",
        "value = driver.find_element(\"xpath\", \"//span[@id='target-value']\").text\n",
        "driver.quit()\n",
        "\n",
        "# --- スプレッドシートに記入 ---\n",
        "from datetime import datetime\n",
        "today = datetime.now().strftime(\"%Y-%m-%d\")\n",
        "sheet.append_row([today, value])\n"
      ]
    }
  ]
}